{
  "nbformat": 4,
  "nbformat_minor": 0,
  "metadata": {
    "colab": {
      "name": "searchPhoneNumber.ipynb",
      "provenance": [],
      "authorship_tag": "ABX9TyNVuWDMMtomjn8yCKPNaEWv",
      "include_colab_link": true
    },
    "kernelspec": {
      "name": "python3",
      "display_name": "Python 3"
    },
    "language_info": {
      "name": "python"
    }
  },
  "cells": [
    {
      "cell_type": "markdown",
      "metadata": {
        "id": "view-in-github",
        "colab_type": "text"
      },
      "source": [
        "<a href=\"https://colab.research.google.com/github/gavictor/py/blob/main/searchPhoneNumber.ipynb\" target=\"_parent\"><img src=\"https://colab.research.google.com/assets/colab-badge.svg\" alt=\"Open In Colab\"/></a>"
      ]
    },
    {
      "cell_type": "code",
      "execution_count": 4,
      "metadata": {
        "colab": {
          "base_uri": "https://localhost:8080/"
        },
        "id": "GtRtRoIMd7py",
        "outputId": "d389cf8c-a9a3-42cd-a2d6-2f2079335a01"
      },
      "outputs": [
        {
          "output_type": "stream",
          "name": "stdout",
          "text": [
            "Digite seu número: 71 992138615\n",
            "O número não foi reconhecido. O padrão de digitação é: (DDD)-12345-1234. Por favor, tente novamente.\n",
            "Digite seu número: 71-99213-8615\n",
            "O número de telefone achado foi: 71-99213-8615\n"
          ]
        }
      ],
      "source": [
        "from re import *\n",
        "while True:\n",
        "  try:\n",
        "    numeroRegex = compile(r'\\d{2}-\\d{5}-\\d{4}')\n",
        "    numeroDigitado = str(input('Digite seu número: '))\n",
        "    mo = numeroRegex.search(numeroDigitado)\n",
        "    print(f'O número de telefone achado foi: {mo.group()}')\n",
        "    break\n",
        "  except AttributeError:\n",
        "    print(f'O número não foi reconhecido. O padrão de digitação é: (DDD)-12345-1234. Por favor, tente novamente.')"
      ]
    }
  ]
}
